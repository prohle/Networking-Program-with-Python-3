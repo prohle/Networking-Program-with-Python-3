{
 "cells": [
  {
   "cell_type": "markdown",
   "metadata": {},
   "source": [
    "# Internet Protocol\n",
    "<img align=\"left\" style=\"padding-right:20px;\" height=\"80px\" aria-hidden=\"true\" src=\"https://prohle.github.io/Networking-Program-with-Python-3/_static/logo.png\">*This notebook contains an excerpt from the [Networking Program with Python 3](https://prohle.github.io/Networking-Program-with-Python-3/intro.html) by [Huong Yen Le](mailto:prohle@gmail.com); the content is available [on GitHub](https://github.com/prohle/Networking-Program-with-Python-3).*\n",
    "\n",
    "*The text is released under the [CC-BY-NC-ND license](https://creativecommons.org/licenses/by-nc-nd/3.0/us/legalcode), and code is released under the [BSD 3-Clause license](https://opensource.org/licenses/BSD-3-Clhttps://opensource.org/lcenses/BSD-3-Clause). If you find this content useful, please consider supporting the work by [pre-ordering the book](mailto:prohle@gmail.com?subject=Please%20reply%20to%20me%20with%20my%20access%20to%20Networking%20Program%20with%20Python%203%20or%20its%20work-in-progress%20version&body=I%20have%20sent%20my%20payment%20of%2019.95%20to%20your%20email%20address.%20Thank%20you.).*"
   ]
  },
  {
   "source": [
    "A note to make the most out of this work.\n",
    "* Nothing beats interactivity! Select the launch icon on the top bar <i class=\"fas fa-rocket\" aria-hidden=\"true\"></i> to work directly with the code via [Google Colab](https://colab.https://colab.research.google.com/github/prohle/Networking-Program-with-Python-3/blob/master/) or [The Entire Book Bider](https://mybinder.org/v2/gh/prohle/Networking-Program-with-Python-3/master) (Preferred but with longer wait time before it becomes ready). \n",
    "* Order of execution is important."
   ],
   "cell_type": "markdown",
   "metadata": {}
  }
 ],
 "metadata": {
  "kernelspec": {
   "display_name": "Python 3",
   "language": "python",
   "name": "python3"
  },
  "language_info": {
   "codemirror_mode": {
    "name": "ipython",
    "version": 3
   },
   "file_extension": ".py",
   "mimetype": "text/x-python",
   "name": "python",
   "nbconvert_exporter": "python",
   "pygments_lexer": "ipython3",
   "version": "3.8.0"
  },
  "widgets": {
   "application/vnd.jupyter.widget-state+json": {
    "state": {},
    "version_major": 2,
    "version_minor": 0
   }
  }
 },
 "nbformat": 4,
 "nbformat_minor": 4
}