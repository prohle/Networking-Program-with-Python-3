{
 "cells": [
  {
   "source": [
    "# Introduction\n",
    "<img align=\"left\" style=\"padding-right:10px;\" height=\"80px\" src=\"https://prohle.github.io/Networking-Program-with-Python-3/_static/logo.png\">\n",
    "*This notebook contains an excerpt from the [Networking Program with Python 3](https://prohle.github.io/Networking-Program-with-Python-3/intro.html) by Huong Yen Le; the content is available [on GitHub](https://github.com/prohle/Networking-Program-with-Python-3).*\n",
    "\n",
    "*The text is released under the [CC-BY-NC-ND license](https://creativecommons.org/licenses/by-nc-nd/3.0/us/legalcode), and code is released under the [BSD 3-Clause license](https://opensource.org/licenses/BSD-3-Clhttps://opensource.org/lcenses/BSD-3-Clause). If you find this content useful, please consider supporting the work by [buying the book](mailto:prohle@gmail.com?subject=Please%20reply%20to%20me%20with%20my%20access%20to%20Networking%20Program%20with%20Python%203%20or%20its%20work-in-progress%20version&body=I%20have%20sent%20my%20payment%20of%2019.95%20to%20your%20email%20address.%20Thank%20you.)*"
   ],
   "cell_type": "markdown",
   "metadata": {}
  },
  {
   "source": [
    "A note to make the most out of this work.\n",
    "* Select the launch icon on the top bar to interact with the code via Google Colab or Binder (Preferred but with longer wait time). Nothing beats interactivity!\n"
   ],
   "cell_type": "markdown",
   "metadata": {}
  }
 ],
 "metadata": {
  "kernelspec": {
   "name": "python3",
   "display_name": "Python 3.7.9 64-bit ('base': conda)"
  },
  "language_info": {
   "codemirror_mode": {
    "name": "ipython",
    "version": 3
   },
   "file_extension": ".py",
   "mimetype": "text/x-python",
   "name": "python",
   "nbconvert_exporter": "python",
   "pygments_lexer": "ipython3",
   "version": "3.7.9"
  },
  "widgets": {
   "application/vnd.jupyter.widget-state+json": {
    "state": {},
    "version_major": 2,
    "version_minor": 0
   }
  },
  "interpreter": {
   "hash": "73e03da126b73bfff3642ec5261d56fa25c444ea595de51041687efaa60dda41"
  }
 },
 "nbformat": 4,
 "nbformat_minor": 4
}