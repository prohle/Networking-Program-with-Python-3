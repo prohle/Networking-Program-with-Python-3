{
 "cells": [
  {
   "cell_type": "markdown",
   "metadata": {},
   "source": [
    "# Internet Protocol\n",
    "<img align=\"left\" style=\"padding-right:10px;\" height=\"80px\" src=\"https://prohle.github.io/Networking-Program-with-Python-3/_static/logo.png\">*This notebook contains an excerpt from the [Networking Program with Python 3](https://prohle.github.io/Networking-Program-with-Python-3/intro.html) by Huong Yen Le; the content is available [on GitHub](https://github.com/prohle/Networking-Program-with-Python-3).*\n",
    "\n",
    "*The text is released under the [CC-BY-NC-ND license](https://creativecommons.org/licenses/by-nc-nd/3.0/us/legalcode), and code is released under the [BSD 3-Clause license](https://opensource.org/licenses/BSD-3-Clhttps://opensource.org/lcenses/BSD-3-Clause). If you find this content useful, please consider supporting the work by [pre-ordering the book](mailto:prohle@gmail.com?subject=Please%20reply%20to%20me%20with%20my%20access%20to%20Networking%20Program%20with%20Python%203%20or%20its%20work-in-progress%20version&body=I%20have%20sent%20my%20payment%20of%2019.95%20to%20your%20email%20address.%20Thank%20you.)*"
   ]
  },
  {
   "source": [
    "A note to make the most out of this work.\n",
    "* Nothing beats interactivity! Select the launch icon on the top bar <i class=\"fas fa-rocket\" aria-hidden=\"true\"></i> to work directly with the code via [Google Colab](https://colab.https://colab.research.google.com/github/prohle/Networking-Program-with-Python-3/blob/master/) or [The Entire Book Bider] (https://mybindhttps://mybinder.org/v2/gh/prohle/Networking-Program-with-Python-3/master) (Preferred but with longer wait time before it becomes ready). \n",
    "* Order of execution is important."
   ],
   "cell_type": "markdown",
   "metadata": {}
  },
  {
   "cell_type": "code",
   "execution_count": null,
   "metadata": {},
   "outputs": [],
   "source": [
    "# Fixing random state for reproducibility\n",
    "np.random.seed(19680801)\n",
    "\n",
    "N = 10\n",
    "data = [np.logspace(0, 1, 100) + np.random.randn(100) + ii for ii in range(N)]\n",
    "data = np.array(data).T\n",
    "cmap = plt.cm.coolwarm\n",
    "rcParams['axes.prop_cycle'] = cycler(color=cmap(np.linspace(0, 1, N)))\n",
    "\n",
    "\n",
    "from matplotlib.lines import Line2D\n",
    "custom_lines = [Line2D([0], [0], color=cmap(0.), lw=4),\n",
    "                Line2D([0], [0], color=cmap(.5), lw=4),\n",
    "                Line2D([0], [0], color=cmap(1.), lw=4)]\n",
    "\n",
    "fig, ax = plt.subplots(figsize=(10, 5))\n",
    "lines = ax.plot(data)\n",
    "ax.legend(custom_lines, ['Cold', 'Medium', 'Hot']);"
   ]
  },
  {
   "cell_type": "markdown",
   "metadata": {},
   "source": [
    "There is a lot more that you can do with outputs (such as including interactive outputs)\n",
    "with your book. For more information about this, see [the Jupyter Book documentation](https://jupyterbook.org)"
   ]
  }
 ],
 "metadata": {
  "kernelspec": {
   "display_name": "Python 3",
   "language": "python",
   "name": "python3"
  },
  "language_info": {
   "codemirror_mode": {
    "name": "ipython",
    "version": 3
   },
   "file_extension": ".py",
   "mimetype": "text/x-python",
   "name": "python",
   "nbconvert_exporter": "python",
   "pygments_lexer": "ipython3",
   "version": "3.8.0"
  },
  "widgets": {
   "application/vnd.jupyter.widget-state+json": {
    "state": {},
    "version_major": 2,
    "version_minor": 0
   }
  }
 },
 "nbformat": 4,
 "nbformat_minor": 4
}